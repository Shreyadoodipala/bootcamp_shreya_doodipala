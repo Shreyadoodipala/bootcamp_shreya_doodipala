{
 "cells": [
  {
   "cell_type": "code",
   "execution_count": 2,
   "id": "8f3aa14a",
   "metadata": {},
   "outputs": [],
   "source": [
    "import pathlib"
   ]
  },
  {
   "cell_type": "code",
   "execution_count": 3,
   "id": "1961340a",
   "metadata": {},
   "outputs": [],
   "source": [
    "REPO_NAME = \"hw1\"\n",
    "FOLDERS = [\"data\", \"notebooks\", \"src\", \"docs\"]\n",
    "\n",
    "base = pathlib.Path.cwd()/REPO_NAME\n",
    "base.mkdir(exist_ok=True)\n",
    "for folder in FOLDERS:\n",
    "    (base/folder).mkdir(parents=True, exist_ok=True)"
   ]
  },
  {
   "cell_type": "code",
   "execution_count": null,
   "id": "90e972f0",
   "metadata": {},
   "outputs": [],
   "source": []
  }
 ],
 "metadata": {
  "kernelspec": {
   "display_name": "bootcamp_env",
   "language": "python",
   "name": "python3"
  },
  "language_info": {
   "codemirror_mode": {
    "name": "ipython",
    "version": 3
   },
   "file_extension": ".py",
   "mimetype": "text/x-python",
   "name": "python",
   "nbconvert_exporter": "python",
   "pygments_lexer": "ipython3",
   "version": "3.10.18"
  }
 },
 "nbformat": 4,
 "nbformat_minor": 5
}
