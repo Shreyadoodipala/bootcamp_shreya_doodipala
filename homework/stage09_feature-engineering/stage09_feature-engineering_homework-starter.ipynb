{
 "cells": [
  {
   "cell_type": "markdown",
   "metadata": {},
   "source": [
    "# Stage 09 — Homework Notebook\n",
    "\n",
    "In the lecture, we learned how to create engineered features. Now it’s your turn to apply those ideas to your own project data."
   ]
  },
  {
   "cell_type": "code",
   "execution_count": 2,
   "metadata": {},
   "outputs": [
    {
     "data": {
      "text/html": [
       "<div>\n",
       "<style scoped>\n",
       "    .dataframe tbody tr th:only-of-type {\n",
       "        vertical-align: middle;\n",
       "    }\n",
       "\n",
       "    .dataframe tbody tr th {\n",
       "        vertical-align: top;\n",
       "    }\n",
       "\n",
       "    .dataframe thead th {\n",
       "        text-align: right;\n",
       "    }\n",
       "</style>\n",
       "<table border=\"1\" class=\"dataframe\">\n",
       "  <thead>\n",
       "    <tr style=\"text-align: right;\">\n",
       "      <th></th>\n",
       "      <th>income</th>\n",
       "      <th>monthly_spend</th>\n",
       "      <th>credit_score</th>\n",
       "    </tr>\n",
       "  </thead>\n",
       "  <tbody>\n",
       "    <tr>\n",
       "      <th>0</th>\n",
       "      <td>86460</td>\n",
       "      <td>3129</td>\n",
       "      <td>661</td>\n",
       "    </tr>\n",
       "    <tr>\n",
       "      <th>1</th>\n",
       "      <td>66002</td>\n",
       "      <td>1191</td>\n",
       "      <td>668</td>\n",
       "    </tr>\n",
       "    <tr>\n",
       "      <th>2</th>\n",
       "      <td>74681</td>\n",
       "      <td>1237</td>\n",
       "      <td>734</td>\n",
       "    </tr>\n",
       "    <tr>\n",
       "      <th>3</th>\n",
       "      <td>93613</td>\n",
       "      <td>2581</td>\n",
       "      <td>712</td>\n",
       "    </tr>\n",
       "    <tr>\n",
       "      <th>4</th>\n",
       "      <td>88013</td>\n",
       "      <td>1296</td>\n",
       "      <td>712</td>\n",
       "    </tr>\n",
       "  </tbody>\n",
       "</table>\n",
       "</div>"
      ],
      "text/plain": [
       "   income  monthly_spend  credit_score\n",
       "0   86460           3129           661\n",
       "1   66002           1191           668\n",
       "2   74681           1237           734\n",
       "3   93613           2581           712\n",
       "4   88013           1296           712"
      ]
     },
     "execution_count": 2,
     "metadata": {},
     "output_type": "execute_result"
    }
   ],
   "source": [
    "import pandas as pd\n",
    "import numpy as np\n",
    "\n",
    "# Example synthetic data (replace with your project dataset)\n",
    "np.random.seed(0)\n",
    "n = 100\n",
    "df = pd.DataFrame({\n",
    "    'income': np.random.normal(60000, 15000, n).astype(int),\n",
    "    'monthly_spend': np.random.normal(2000, 600, n).astype(int),\n",
    "    'credit_score': np.random.normal(680, 50, n).astype(int)\n",
    "})\n",
    "df.head()"
   ]
  },
  {
   "cell_type": "markdown",
   "metadata": {},
   "source": [
    "## TODO: Implement at least 2 engineered features here"
   ]
  },
  {
   "cell_type": "code",
   "execution_count": 3,
   "metadata": {},
   "outputs": [],
   "source": [
    "# Example feature 1:\n",
    "df['spend_income_ratio'] = df['monthly_spend'] / df['income']"
   ]
  },
  {
   "cell_type": "markdown",
   "metadata": {},
   "source": [
    "### Rationale for Spend-Income ratio\n",
    "The spend-income ratio measures the fraction of income spent each month, and gives a good insight into their spending pattern. While the EDA shows a general trend where spend is grater for people with higher income, this ratio allows for a standardized comparison among people of different income levels."
   ]
  },
  {
   "cell_type": "code",
   "execution_count": 7,
   "metadata": {},
   "outputs": [],
   "source": [
    "# Example feature 2\n",
    "df['rolling_spend_mean'] = df['monthly_spend'].rolling(3).mean().fillna(df['monthly_spend'])"
   ]
  },
  {
   "cell_type": "markdown",
   "metadata": {},
   "source": [
    "### Rationale for Rolling spend mean\n",
    "Rolling spend mean shows the 3 month rolling average of spending. It smooths out fluctuations from unusual spending (outliers) to show overall trends in spending behavior."
   ]
  },
  {
   "cell_type": "code",
   "execution_count": 5,
   "id": "863b5b9f",
   "metadata": {},
   "outputs": [],
   "source": [
    "# Feature 3\n",
    "df['estimated_savings'] = df['income'] / 12 - df['monthly_spend']"
   ]
  },
  {
   "cell_type": "markdown",
   "id": "7063f2c5",
   "metadata": {},
   "source": [
    "### Rationale for Estimated Savings\n",
    "This feature calculates the estimated monthly savings by subtracting their monthly spending from their monthly income. It provides insights into users' financial health.\n"
   ]
  },
  {
   "cell_type": "code",
   "execution_count": 14,
   "id": "32f29f11",
   "metadata": {},
   "outputs": [],
   "source": [
    "# Feature 4\n",
    "bins = [300, 579, 669, 739, 799, 850]\n",
    "labels = ['Poor', 'Fair', 'Good', 'Very Good', 'Excellent']\n",
    "df['credit_band'] = pd.cut(df['credit_score'], bins=bins, labels=labels)"
   ]
  },
  {
   "cell_type": "markdown",
   "id": "eb584e79",
   "metadata": {},
   "source": [
    "### Rationale for Credit Score Bands\n",
    "This feature helps categorize people ontheir likelihood to default on a loan, based on their credit score. This is an important feature in business use cases, where the category is more important than the exact number."
   ]
  },
  {
   "cell_type": "code",
   "execution_count": 15,
   "id": "9d2967aa",
   "metadata": {},
   "outputs": [
    {
     "data": {
      "text/html": [
       "<div>\n",
       "<style scoped>\n",
       "    .dataframe tbody tr th:only-of-type {\n",
       "        vertical-align: middle;\n",
       "    }\n",
       "\n",
       "    .dataframe tbody tr th {\n",
       "        vertical-align: top;\n",
       "    }\n",
       "\n",
       "    .dataframe thead th {\n",
       "        text-align: right;\n",
       "    }\n",
       "</style>\n",
       "<table border=\"1\" class=\"dataframe\">\n",
       "  <thead>\n",
       "    <tr style=\"text-align: right;\">\n",
       "      <th></th>\n",
       "      <th>income</th>\n",
       "      <th>monthly_spend</th>\n",
       "      <th>credit_score</th>\n",
       "      <th>spend_income_ratio</th>\n",
       "      <th>rolling_spend_mean</th>\n",
       "      <th>estimated_savings</th>\n",
       "      <th>is_high_risk</th>\n",
       "      <th>credit_band</th>\n",
       "    </tr>\n",
       "  </thead>\n",
       "  <tbody>\n",
       "    <tr>\n",
       "      <th>0</th>\n",
       "      <td>86460</td>\n",
       "      <td>3129</td>\n",
       "      <td>661</td>\n",
       "      <td>0.036190</td>\n",
       "      <td>3129.000000</td>\n",
       "      <td>4076.000000</td>\n",
       "      <td>0</td>\n",
       "      <td>Fair</td>\n",
       "    </tr>\n",
       "    <tr>\n",
       "      <th>1</th>\n",
       "      <td>66002</td>\n",
       "      <td>1191</td>\n",
       "      <td>668</td>\n",
       "      <td>0.018045</td>\n",
       "      <td>1191.000000</td>\n",
       "      <td>4309.166667</td>\n",
       "      <td>0</td>\n",
       "      <td>Fair</td>\n",
       "    </tr>\n",
       "    <tr>\n",
       "      <th>2</th>\n",
       "      <td>74681</td>\n",
       "      <td>1237</td>\n",
       "      <td>734</td>\n",
       "      <td>0.016564</td>\n",
       "      <td>1852.333333</td>\n",
       "      <td>4986.416667</td>\n",
       "      <td>0</td>\n",
       "      <td>Good</td>\n",
       "    </tr>\n",
       "    <tr>\n",
       "      <th>3</th>\n",
       "      <td>93613</td>\n",
       "      <td>2581</td>\n",
       "      <td>712</td>\n",
       "      <td>0.027571</td>\n",
       "      <td>1669.666667</td>\n",
       "      <td>5220.083333</td>\n",
       "      <td>0</td>\n",
       "      <td>Good</td>\n",
       "    </tr>\n",
       "    <tr>\n",
       "      <th>4</th>\n",
       "      <td>88013</td>\n",
       "      <td>1296</td>\n",
       "      <td>712</td>\n",
       "      <td>0.014725</td>\n",
       "      <td>1704.666667</td>\n",
       "      <td>6038.416667</td>\n",
       "      <td>0</td>\n",
       "      <td>Good</td>\n",
       "    </tr>\n",
       "  </tbody>\n",
       "</table>\n",
       "</div>"
      ],
      "text/plain": [
       "   income  monthly_spend  credit_score  spend_income_ratio  \\\n",
       "0   86460           3129           661            0.036190   \n",
       "1   66002           1191           668            0.018045   \n",
       "2   74681           1237           734            0.016564   \n",
       "3   93613           2581           712            0.027571   \n",
       "4   88013           1296           712            0.014725   \n",
       "\n",
       "   rolling_spend_mean  estimated_savings  is_high_risk credit_band  \n",
       "0         3129.000000        4076.000000             0        Fair  \n",
       "1         1191.000000        4309.166667             0        Fair  \n",
       "2         1852.333333        4986.416667             0        Good  \n",
       "3         1669.666667        5220.083333             0        Good  \n",
       "4         1704.666667        6038.416667             0        Good  "
      ]
     },
     "execution_count": 15,
     "metadata": {},
     "output_type": "execute_result"
    }
   ],
   "source": [
    "df.head()"
   ]
  },
  {
   "cell_type": "code",
   "execution_count": 16,
   "id": "a8bb5a75",
   "metadata": {},
   "outputs": [],
   "source": [
    "df.to_csv('engineered_features.csv', index=False)"
   ]
  }
 ],
 "metadata": {
  "kernelspec": {
   "display_name": "bootcamp_env",
   "language": "python",
   "name": "python3"
  },
  "language_info": {
   "codemirror_mode": {
    "name": "ipython",
    "version": 3
   },
   "file_extension": ".py",
   "mimetype": "text/x-python",
   "name": "python",
   "nbconvert_exporter": "python",
   "pygments_lexer": "ipython3",
   "version": "3.10.18"
  }
 },
 "nbformat": 4,
 "nbformat_minor": 5
}
